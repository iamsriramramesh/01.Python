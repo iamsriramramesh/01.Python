{
 "cells": [
  {
   "cell_type": "code",
   "execution_count": 3,
   "metadata": {},
   "outputs": [],
   "source": [
    "# Create a class and function, and list out the items in the list\n",
    "class SubfieldsInAI():\n",
    "    def Subfields():\n",
    "        Sub= [\"Sub-fields in AI are:\",\n",
    "                   \"Machine Learning\",\n",
    "                   \"Neural Networks\",\n",
    "                   \"Vision\",\n",
    "                   \"Robotics\",\n",
    "                   \"Speech Processing\",\n",
    "                   \"Natural Language Processing\"]\n",
    "        return(Sub)"
   ]
  },
  {
   "cell_type": "code",
   "execution_count": 4,
   "metadata": {},
   "outputs": [
    {
     "data": {
      "text/plain": [
       "['Sub-fields in AI are:',\n",
       " 'Machine Learning',\n",
       " 'Neural Networks',\n",
       " 'Vision',\n",
       " 'Robotics',\n",
       " 'Speech Processing',\n",
       " 'Natural Language Processing']"
      ]
     },
     "execution_count": 4,
     "metadata": {},
     "output_type": "execute_result"
    }
   ],
   "source": [
    "SubfieldsInAI.Subfields()"
   ]
  },
  {
   "cell_type": "code",
   "execution_count": 40,
   "metadata": {},
   "outputs": [],
   "source": [
    "# Create a function that checks whether the given number is Odd or Even\n",
    "def oddEvenoddEven():\n",
    "    if (oddEven1%2==0):\n",
    "        print((oddEven1),\"is Even number\")\n",
    "    else:\n",
    "        print((oddEven1),\"is odd number\")"
   ]
  },
  {
   "cell_type": "code",
   "execution_count": 41,
   "metadata": {},
   "outputs": [
    {
     "name": "stdout",
     "output_type": "stream",
     "text": [
      "Enter a number: 52452\n",
      "52452 is Even number\n"
     ]
    }
   ],
   "source": [
    "oddEven1=int(input(\"Enter a number: \"))\n",
    "oddEven.oddEven()"
   ]
  },
  {
   "cell_type": "code",
   "execution_count": 4,
   "metadata": {},
   "outputs": [],
   "source": [
    "# Create a function that tells elegibility of marriage for male and female according to their age limit like 21 for male and 18 for female"
   ]
  },
  {
   "cell_type": "code",
   "execution_count": 1,
   "metadata": {},
   "outputs": [],
   "source": [
    "class ElegibilityForMarriage:\n",
    "    def Elegible():\n",
    "        gender = input(\"Your Gender: \")\n",
    "        age = int(input(\"Your Age: \"))\n",
    "\n",
    "        if (gender == \"male\") and (age >= 21):\n",
    "            print(\"ELIGIBLE\")\n",
    "        elif (gender == \"female\") and (age >= 18):\n",
    "            print(\"ELIGIBLE\")\n",
    "        else:\n",
    "            print(\"NOT ELIGIBLE\")"
   ]
  },
  {
   "cell_type": "code",
   "execution_count": 2,
   "metadata": {},
   "outputs": [
    {
     "name": "stdout",
     "output_type": "stream",
     "text": [
      "Your Gender: male\n",
      "Your Age: 20\n",
      "NOT ELIGIBLE\n"
     ]
    }
   ],
   "source": [
    "ElegibilityForMarriage.Elegible()"
   ]
  },
  {
   "cell_type": "code",
   "execution_count": 2,
   "metadata": {},
   "outputs": [],
   "source": [
    " # calculate the percentage of your 10th mark\n",
    "class FindPercent():\n",
    "    def percentage():\n",
    "        subject1=int(input(\"subject1=\"))\n",
    "        subject2=int(input(\"subject2=\"))\n",
    "        subject3=int(input(\"subject3=\"))\n",
    "        subject4=int(input(\"subject4=\"))\n",
    "        subject5=int(input(\"subject5=\"))\n",
    "        total = subject1+subject2+subject3+subject4+subject5\n",
    "        percentage= total/500 * 100\n",
    "        print(\"Total:\",(total))\n",
    "        print(\"Percentage:\",(percentage))"
   ]
  },
  {
   "cell_type": "code",
   "execution_count": 3,
   "metadata": {},
   "outputs": [
    {
     "name": "stdout",
     "output_type": "stream",
     "text": [
      "subject1=98\n",
      "subject2=87\n",
      "subject3=95\n",
      "subject4=95\n",
      "subject5=93\n",
      "Total: 468\n",
      "Percentage: 93.60000000000001\n"
     ]
    }
   ],
   "source": [
    "FindPercent.percentage()"
   ]
  },
  {
   "cell_type": "code",
   "execution_count": 11,
   "metadata": {},
   "outputs": [],
   "source": [
    "#print area and perimeter of triangle using class and functions"
   ]
  },
  {
   "cell_type": "code",
   "execution_count": 13,
   "metadata": {},
   "outputs": [],
   "source": [
    "class triangle():\n",
    "    def triangle():\n",
    "        height=int(input(\"Height:\"))\n",
    "        breadth=int(input(\"Breadth:\"))\n",
    "        areaformula= (height*breadth)/2\n",
    "        print(\"Area formula: (Height*Breadth)/2\")\n",
    "        print(\"Area of Triangle: \",(areaformula))\n",
    "        height1=int(input(\"Height1:\"))\n",
    "        height2=int(input(\"Height2:\"))\n",
    "        breadth=int(input(\"Breadth2:\"))\n",
    "        Perimeterformula= height1+height2+breadth\n",
    "        print(\"Perimeter formula: Height1+Height2+Breadth\")\n",
    "        print(\"Perimeter of Triangle: \",(Perimeterformula))"
   ]
  },
  {
   "cell_type": "code",
   "execution_count": 14,
   "metadata": {},
   "outputs": [
    {
     "name": "stdout",
     "output_type": "stream",
     "text": [
      "Height:32\n",
      "Breadth:34\n",
      "Area formula: (Height*Breadth)/2\n",
      "Area of Triangle:  544.0\n",
      "Height1:2\n",
      "Height2:4\n",
      "Breadth2:4\n",
      "Perimeter formula: Height1+Height2+Breadth\n",
      "Perimeter of Triangle:  10\n"
     ]
    }
   ],
   "source": [
    "triangle.triangle()"
   ]
  },
  {
   "cell_type": "code",
   "execution_count": null,
   "metadata": {},
   "outputs": [],
   "source": []
  }
 ],
 "metadata": {
  "kernelspec": {
   "display_name": "Python 3",
   "language": "python",
   "name": "python3"
  },
  "language_info": {
   "codemirror_mode": {
    "name": "ipython",
    "version": 3
   },
   "file_extension": ".py",
   "mimetype": "text/x-python",
   "name": "python",
   "nbconvert_exporter": "python",
   "pygments_lexer": "ipython3",
   "version": "3.7.4"
  }
 },
 "nbformat": 4,
 "nbformat_minor": 2
}
